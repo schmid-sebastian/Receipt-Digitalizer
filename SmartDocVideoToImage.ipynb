{
 "cells": [
  {
   "cell_type": "code",
   "execution_count": 36,
   "id": "curious-haiti",
   "metadata": {},
   "outputs": [],
   "source": [
    "import os\n",
    "import cv2\n",
    "import xml\n",
    "import pandas as pd"
   ]
  },
  {
   "cell_type": "code",
   "execution_count": 41,
   "id": "empirical-smile",
   "metadata": {},
   "outputs": [],
   "source": [
    "def get_coordinates(xml_path):\n",
    "    coordinates = []\n",
    "    labels = xml.dom.minidom.parse(xml_path)\n",
    "    frames = labels.getElementsByTagName('frame')\n",
    "    for frame in frames:\n",
    "        points = frame.getElementsByTagName('point')\n",
    "        frame_coords = []\n",
    "        for i in [1,2,3,0]:\n",
    "            frame_coords.append(int(float(points[i].attributes['x'].value)))\n",
    "            frame_coords.append(int(float(points[i].attributes['y'].value)))\n",
    "        coordinates.append(frame_coords)\n",
    "    return coordinates"
   ]
  },
  {
   "cell_type": "code",
   "execution_count": 46,
   "id": "opponent-tamil",
   "metadata": {
    "tags": []
   },
   "outputs": [],
   "source": [
    "input_path = 'D:/Github/Spliddit/SmartDocData/'\n",
    "output_path = 'D:/Github/Spliddit/SmartDocFrames/'\n",
    "count = 0\n",
    "labels = []\n",
    "\n",
    "for folder in os.listdir(input_path):\n",
    "    current_directory = input_path + folder + '/'\n",
    "    for file in os.listdir(current_directory):\n",
    "        if file.endswith('.avi'):\n",
    "            labels.extend(get_coordinates(current_directory + file[:-4] + '.gt.xml'))\n",
    "            vidcap = cv2.VideoCapture(current_directory + file)\n",
    "            success, image = vidcap.read()\n",
    "            while success:\n",
    "                cv2.imwrite(output_path + str(count).zfill(7) + '.jpg', image)\n",
    "                success, image = vidcap.read()\n",
    "                count += 1"
   ]
  },
  {
   "cell_type": "code",
   "execution_count": 58,
   "id": "integral-rotation",
   "metadata": {},
   "outputs": [],
   "source": [
    "data = pd.DataFrame({'count' : range(len(labels)),'label' : [tuple(x) for x in labels]})"
   ]
  },
  {
   "cell_type": "code",
   "execution_count": 59,
   "id": "entitled-michigan",
   "metadata": {},
   "outputs": [],
   "source": [
    "data.to_csv('D:/Github/Spliddit/labels_SmartDoc.csv', index=False)"
   ]
  },
  {
   "cell_type": "code",
   "execution_count": null,
   "id": "corporate-healing",
   "metadata": {},
   "outputs": [],
   "source": []
  }
 ],
 "metadata": {
  "kernelspec": {
   "display_name": "Python 3",
   "language": "python",
   "name": "python3"
  },
  "language_info": {
   "codemirror_mode": {
    "name": "ipython",
    "version": 3
   },
   "file_extension": ".py",
   "mimetype": "text/x-python",
   "name": "python",
   "nbconvert_exporter": "python",
   "pygments_lexer": "ipython3",
   "version": "3.7.4"
  }
 },
 "nbformat": 4,
 "nbformat_minor": 5
}
